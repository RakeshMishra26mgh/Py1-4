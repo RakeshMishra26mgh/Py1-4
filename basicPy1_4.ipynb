{
  "nbformat": 4,
  "nbformat_minor": 0,
  "metadata": {
    "colab": {
      "provenance": [],
      "authorship_tag": "ABX9TyP7QqPmyR1XME7xvRZ1wChC",
      "include_colab_link": true
    },
    "kernelspec": {
      "name": "python3",
      "display_name": "Python 3"
    },
    "language_info": {
      "name": "python"
    }
  },
  "cells": [
    {
      "cell_type": "markdown",
      "metadata": {
        "id": "view-in-github",
        "colab_type": "text"
      },
      "source": [
        "<a href=\"https://colab.research.google.com/github/RakeshMishra26mgh/Py1-4/blob/main/basicPy1_4.ipynb\" target=\"_parent\"><img src=\"https://colab.research.google.com/assets/colab-badge.svg\" alt=\"Open In Colab\"/></a>"
      ]
    },
    {
      "cell_type": "markdown",
      "source": [
        "Answer 1 :-"
      ],
      "metadata": {
        "id": "D-liXigp_-U8"
      }
    },
    {
      "cell_type": "code",
      "source": [
        "num=int(input(\"enter a number :\"))\n",
        "fact=1\n",
        "while num>0:\n",
        "  fact=fact*num\n",
        "  num=num-1\n",
        "print(f\"the factorial of the given number is: {fact}\")  \n"
      ],
      "metadata": {
        "id": "2Zo18P9kABN7"
      },
      "execution_count": null,
      "outputs": []
    },
    {
      "cell_type": "markdown",
      "source": [
        "Answer 2:-"
      ],
      "metadata": {
        "id": "zlycJSGMCzYb"
      }
    },
    {
      "cell_type": "code",
      "source": [
        "num=int(input(\"enter a number :\"))\n",
        "for i in range(1,11):\n",
        "  print(num,\"x\",i,\"=\",num*i)\n"
      ],
      "metadata": {
        "id": "sSPSwwK9C7YE"
      },
      "execution_count": null,
      "outputs": []
    },
    {
      "cell_type": "markdown",
      "source": [
        "Answer 3:-"
      ],
      "metadata": {
        "id": "yDeXkKssEHkx"
      }
    },
    {
      "cell_type": "code",
      "source": [
        "num=int(input(\"enter a number :\"))\n",
        "n1 ,n2=0,1\n",
        "sum=0\n",
        "print(n1)\n",
        "print(n2)\n",
        "for i in range(2,num):\n",
        "  sum=n1+n2\n",
        "  n1=n2\n",
        "  n2=sum\n",
        "  print(sum)\n"
      ],
      "metadata": {
        "id": "rCJcFIomELs4"
      },
      "execution_count": null,
      "outputs": []
    },
    {
      "cell_type": "markdown",
      "source": [
        "Answer 4:-"
      ],
      "metadata": {
        "id": "WJfQB4BJNkIh"
      }
    },
    {
      "cell_type": "code",
      "source": [
        "num=int(input(\"enter a number :\"))\n",
        "sum=0\n",
        "order=len(str(num))\n",
        "temp=num\n",
        "while(num>0):\n",
        "  digit=num%10\n",
        "  sum+=digit**order\n",
        "  num=num//10\n",
        "if (sum==temp):\n",
        "  print(\"the given number is armstrong number\")\n",
        "else:\n",
        "  print(\" the number is not an armstrong number\")   "
      ],
      "metadata": {
        "id": "wcxN7g0DNm8T"
      },
      "execution_count": null,
      "outputs": []
    },
    {
      "cell_type": "markdown",
      "source": [
        "Answer 5:-"
      ],
      "metadata": {
        "id": "b8lModtzPyOt"
      }
    },
    {
      "cell_type": "code",
      "source": [
        "lr=int(input(\"enter the lower range of the interval :\"))\n",
        "ur=int(input(\"enter the upper range of the interval :\"))\n",
        "for i in range(lr,ur+1):\n",
        "  order=len(str(i))\n",
        "  sum =0\n",
        "  temp=i\n",
        "  while(temp>0):\n",
        "    digit=temp%10\n",
        "    sum+=digit**order\n",
        "    temp=temp//10\n",
        "  if(i==sum):\n",
        "    print(sum)\n",
        "      \n",
        "\n"
      ],
      "metadata": {
        "id": "a-Uz6jrLP0V6"
      },
      "execution_count": null,
      "outputs": []
    },
    {
      "cell_type": "markdown",
      "source": [
        "Answer 6:-"
      ],
      "metadata": {
        "id": "7fOsePAaP__q"
      }
    },
    {
      "cell_type": "code",
      "source": [
        "num=int(input(\"enter a number :\"))\n",
        "sum=0\n",
        "if (num<0):\n",
        "  print(\"please enter number greater than 0\")\n",
        "else:\n",
        "  for i in range(1,num+1):\n",
        "    sum+=i\n",
        "  print(f\" the sum is : {sum}\")  \n",
        "  "
      ],
      "metadata": {
        "id": "PlJViADfQC3m"
      },
      "execution_count": null,
      "outputs": []
    }
  ]
}